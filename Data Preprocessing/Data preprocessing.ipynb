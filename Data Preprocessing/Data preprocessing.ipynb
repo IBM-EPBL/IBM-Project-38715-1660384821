{
  "nbformat": 4,
  "nbformat_minor": 0,
  "metadata": {
    "colab": {
      "provenance": []
    },
    "kernelspec": {
      "name": "python3",
      "display_name": "Python 3"
    },
    "language_info": {
      "name": "python"
    }
  },
  "cells": [
    {
      "cell_type": "code",
      "execution_count": 2,
      "metadata": {
        "id": "6on16crc-oYK"
      },
      "outputs": [],
      "source": [
        "import pandas as pd\n",
        "import numpy as np\n",
        "import matplotlib.pyplot as plt\n",
        "import seaborn as sns\n",
        "from sklearn.model_selection import train_test_split\n",
        "from sklearn.linear_model import Lasso\n",
        "from sklearn.linear_model import Ridge\n",
        "from sklearn.metrics import mean_squared_error , r2_score\n",
        "import joblib\n"
      ]
    },
    {
      "cell_type": "code",
      "source": [
        "data = pd.read_csv('/content/drive/MyDrive/T1.csv')\n",
        "data.rename(columns = {'LV ActivePower (kW)':'ActivePower(kW)',\n",
        "                       \"Wind Speed (m/s)\":\"WindSpeed(m/s)\",\n",
        "                       \"Wind Direction (°)\":\"WindDirection\",\"Theoretical_Power_Curve (KWh)\":\"TheoreticalPowerCurve(KWh)\"},\n",
        "            inplace = True)\n",
        "data.head()"
      ],
      "metadata": {
        "colab": {
          "base_uri": "https://localhost:8080/",
          "height": 206
        },
        "id": "ol7e44vU-3gf",
        "outputId": "bc7feb23-d5b1-4d08-8e85-a064cfc4421b"
      },
      "execution_count": 3,
      "outputs": [
        {
          "output_type": "execute_result",
          "data": {
            "text/plain": [
              "          Date/Time  ActivePower(kW)  WindSpeed(m/s)  \\\n",
              "0  01 01 2018 00:00       380.047791        5.311336   \n",
              "1  01 01 2018 00:10       453.769196        5.672167   \n",
              "2  01 01 2018 00:20       306.376587        5.216037   \n",
              "3  01 01 2018 00:30       419.645905        5.659674   \n",
              "4  01 01 2018 00:40       380.650696        5.577941   \n",
              "\n",
              "   TheoreticalPowerCurve(KWh)  WindDirection  \n",
              "0                  416.328908     259.994904  \n",
              "1                  519.917511     268.641113  \n",
              "2                  390.900016     272.564789  \n",
              "3                  516.127569     271.258087  \n",
              "4                  491.702972     265.674286  "
            ],
            "text/html": [
              "\n",
              "  <div id=\"df-c167d0a1-2060-42a9-b0f3-b79802f5f1fe\">\n",
              "    <div class=\"colab-df-container\">\n",
              "      <div>\n",
              "<style scoped>\n",
              "    .dataframe tbody tr th:only-of-type {\n",
              "        vertical-align: middle;\n",
              "    }\n",
              "\n",
              "    .dataframe tbody tr th {\n",
              "        vertical-align: top;\n",
              "    }\n",
              "\n",
              "    .dataframe thead th {\n",
              "        text-align: right;\n",
              "    }\n",
              "</style>\n",
              "<table border=\"1\" class=\"dataframe\">\n",
              "  <thead>\n",
              "    <tr style=\"text-align: right;\">\n",
              "      <th></th>\n",
              "      <th>Date/Time</th>\n",
              "      <th>ActivePower(kW)</th>\n",
              "      <th>WindSpeed(m/s)</th>\n",
              "      <th>TheoreticalPowerCurve(KWh)</th>\n",
              "      <th>WindDirection</th>\n",
              "    </tr>\n",
              "  </thead>\n",
              "  <tbody>\n",
              "    <tr>\n",
              "      <th>0</th>\n",
              "      <td>01 01 2018 00:00</td>\n",
              "      <td>380.047791</td>\n",
              "      <td>5.311336</td>\n",
              "      <td>416.328908</td>\n",
              "      <td>259.994904</td>\n",
              "    </tr>\n",
              "    <tr>\n",
              "      <th>1</th>\n",
              "      <td>01 01 2018 00:10</td>\n",
              "      <td>453.769196</td>\n",
              "      <td>5.672167</td>\n",
              "      <td>519.917511</td>\n",
              "      <td>268.641113</td>\n",
              "    </tr>\n",
              "    <tr>\n",
              "      <th>2</th>\n",
              "      <td>01 01 2018 00:20</td>\n",
              "      <td>306.376587</td>\n",
              "      <td>5.216037</td>\n",
              "      <td>390.900016</td>\n",
              "      <td>272.564789</td>\n",
              "    </tr>\n",
              "    <tr>\n",
              "      <th>3</th>\n",
              "      <td>01 01 2018 00:30</td>\n",
              "      <td>419.645905</td>\n",
              "      <td>5.659674</td>\n",
              "      <td>516.127569</td>\n",
              "      <td>271.258087</td>\n",
              "    </tr>\n",
              "    <tr>\n",
              "      <th>4</th>\n",
              "      <td>01 01 2018 00:40</td>\n",
              "      <td>380.650696</td>\n",
              "      <td>5.577941</td>\n",
              "      <td>491.702972</td>\n",
              "      <td>265.674286</td>\n",
              "    </tr>\n",
              "  </tbody>\n",
              "</table>\n",
              "</div>\n",
              "      <button class=\"colab-df-convert\" onclick=\"convertToInteractive('df-c167d0a1-2060-42a9-b0f3-b79802f5f1fe')\"\n",
              "              title=\"Convert this dataframe to an interactive table.\"\n",
              "              style=\"display:none;\">\n",
              "        \n",
              "  <svg xmlns=\"http://www.w3.org/2000/svg\" height=\"24px\"viewBox=\"0 0 24 24\"\n",
              "       width=\"24px\">\n",
              "    <path d=\"M0 0h24v24H0V0z\" fill=\"none\"/>\n",
              "    <path d=\"M18.56 5.44l.94 2.06.94-2.06 2.06-.94-2.06-.94-.94-2.06-.94 2.06-2.06.94zm-11 1L8.5 8.5l.94-2.06 2.06-.94-2.06-.94L8.5 2.5l-.94 2.06-2.06.94zm10 10l.94 2.06.94-2.06 2.06-.94-2.06-.94-.94-2.06-.94 2.06-2.06.94z\"/><path d=\"M17.41 7.96l-1.37-1.37c-.4-.4-.92-.59-1.43-.59-.52 0-1.04.2-1.43.59L10.3 9.45l-7.72 7.72c-.78.78-.78 2.05 0 2.83L4 21.41c.39.39.9.59 1.41.59.51 0 1.02-.2 1.41-.59l7.78-7.78 2.81-2.81c.8-.78.8-2.07 0-2.86zM5.41 20L4 18.59l7.72-7.72 1.47 1.35L5.41 20z\"/>\n",
              "  </svg>\n",
              "      </button>\n",
              "      \n",
              "  <style>\n",
              "    .colab-df-container {\n",
              "      display:flex;\n",
              "      flex-wrap:wrap;\n",
              "      gap: 12px;\n",
              "    }\n",
              "\n",
              "    .colab-df-convert {\n",
              "      background-color: #E8F0FE;\n",
              "      border: none;\n",
              "      border-radius: 50%;\n",
              "      cursor: pointer;\n",
              "      display: none;\n",
              "      fill: #1967D2;\n",
              "      height: 32px;\n",
              "      padding: 0 0 0 0;\n",
              "      width: 32px;\n",
              "    }\n",
              "\n",
              "    .colab-df-convert:hover {\n",
              "      background-color: #E2EBFA;\n",
              "      box-shadow: 0px 1px 2px rgba(60, 64, 67, 0.3), 0px 1px 3px 1px rgba(60, 64, 67, 0.15);\n",
              "      fill: #174EA6;\n",
              "    }\n",
              "\n",
              "    [theme=dark] .colab-df-convert {\n",
              "      background-color: #3B4455;\n",
              "      fill: #D2E3FC;\n",
              "    }\n",
              "\n",
              "    [theme=dark] .colab-df-convert:hover {\n",
              "      background-color: #434B5C;\n",
              "      box-shadow: 0px 1px 3px 1px rgba(0, 0, 0, 0.15);\n",
              "      filter: drop-shadow(0px 1px 2px rgba(0, 0, 0, 0.3));\n",
              "      fill: #FFFFFF;\n",
              "    }\n",
              "  </style>\n",
              "\n",
              "      <script>\n",
              "        const buttonEl =\n",
              "          document.querySelector('#df-c167d0a1-2060-42a9-b0f3-b79802f5f1fe button.colab-df-convert');\n",
              "        buttonEl.style.display =\n",
              "          google.colab.kernel.accessAllowed ? 'block' : 'none';\n",
              "\n",
              "        async function convertToInteractive(key) {\n",
              "          const element = document.querySelector('#df-c167d0a1-2060-42a9-b0f3-b79802f5f1fe');\n",
              "          const dataTable =\n",
              "            await google.colab.kernel.invokeFunction('convertToInteractive',\n",
              "                                                     [key], {});\n",
              "          if (!dataTable) return;\n",
              "\n",
              "          const docLinkHtml = 'Like what you see? Visit the ' +\n",
              "            '<a target=\"_blank\" href=https://colab.research.google.com/notebooks/data_table.ipynb>data table notebook</a>'\n",
              "            + ' to learn more about interactive tables.';\n",
              "          element.innerHTML = '';\n",
              "          dataTable['output_type'] = 'display_data';\n",
              "          await google.colab.output.renderOutput(dataTable, element);\n",
              "          const docLink = document.createElement('div');\n",
              "          docLink.innerHTML = docLinkHtml;\n",
              "          element.appendChild(docLink);\n",
              "        }\n",
              "      </script>\n",
              "    </div>\n",
              "  </div>\n",
              "  "
            ]
          },
          "metadata": {},
          "execution_count": 3
        }
      ]
    },
    {
      "cell_type": "code",
      "source": [
        "data.shape"
      ],
      "metadata": {
        "colab": {
          "base_uri": "https://localhost:8080/"
        },
        "id": "F96Ug3dPj4kR",
        "outputId": "9fd0668d-d81f-444f-9b9c-9393a2d52628"
      },
      "execution_count": 4,
      "outputs": [
        {
          "output_type": "execute_result",
          "data": {
            "text/plain": [
              "(50530, 5)"
            ]
          },
          "metadata": {},
          "execution_count": 4
        }
      ]
    },
    {
      "cell_type": "code",
      "source": [
        "data.describe()"
      ],
      "metadata": {
        "colab": {
          "base_uri": "https://localhost:8080/",
          "height": 300
        },
        "id": "vvgdeqR4kB5l",
        "outputId": "17437269-a118-4d6e-af82-f0f9655e09ac"
      },
      "execution_count": 5,
      "outputs": [
        {
          "output_type": "execute_result",
          "data": {
            "text/plain": [
              "       ActivePower(kW)  WindSpeed(m/s)  TheoreticalPowerCurve(KWh)  \\\n",
              "count     50530.000000    50530.000000                50530.000000   \n",
              "mean       1307.684332        7.557952                 1492.175463   \n",
              "std        1312.459242        4.227166                 1368.018238   \n",
              "min          -2.471405        0.000000                    0.000000   \n",
              "25%          50.677890        4.201395                  161.328167   \n",
              "50%         825.838074        7.104594                 1063.776283   \n",
              "75%        2482.507568       10.300020                 2964.972462   \n",
              "max        3618.732910       25.206011                 3600.000000   \n",
              "\n",
              "       WindDirection  \n",
              "count   50530.000000  \n",
              "mean      123.687559  \n",
              "std        93.443736  \n",
              "min         0.000000  \n",
              "25%        49.315437  \n",
              "50%        73.712978  \n",
              "75%       201.696720  \n",
              "max       359.997589  "
            ],
            "text/html": [
              "\n",
              "  <div id=\"df-574c009f-6aa8-4a12-8973-81150c9ec366\">\n",
              "    <div class=\"colab-df-container\">\n",
              "      <div>\n",
              "<style scoped>\n",
              "    .dataframe tbody tr th:only-of-type {\n",
              "        vertical-align: middle;\n",
              "    }\n",
              "\n",
              "    .dataframe tbody tr th {\n",
              "        vertical-align: top;\n",
              "    }\n",
              "\n",
              "    .dataframe thead th {\n",
              "        text-align: right;\n",
              "    }\n",
              "</style>\n",
              "<table border=\"1\" class=\"dataframe\">\n",
              "  <thead>\n",
              "    <tr style=\"text-align: right;\">\n",
              "      <th></th>\n",
              "      <th>ActivePower(kW)</th>\n",
              "      <th>WindSpeed(m/s)</th>\n",
              "      <th>TheoreticalPowerCurve(KWh)</th>\n",
              "      <th>WindDirection</th>\n",
              "    </tr>\n",
              "  </thead>\n",
              "  <tbody>\n",
              "    <tr>\n",
              "      <th>count</th>\n",
              "      <td>50530.000000</td>\n",
              "      <td>50530.000000</td>\n",
              "      <td>50530.000000</td>\n",
              "      <td>50530.000000</td>\n",
              "    </tr>\n",
              "    <tr>\n",
              "      <th>mean</th>\n",
              "      <td>1307.684332</td>\n",
              "      <td>7.557952</td>\n",
              "      <td>1492.175463</td>\n",
              "      <td>123.687559</td>\n",
              "    </tr>\n",
              "    <tr>\n",
              "      <th>std</th>\n",
              "      <td>1312.459242</td>\n",
              "      <td>4.227166</td>\n",
              "      <td>1368.018238</td>\n",
              "      <td>93.443736</td>\n",
              "    </tr>\n",
              "    <tr>\n",
              "      <th>min</th>\n",
              "      <td>-2.471405</td>\n",
              "      <td>0.000000</td>\n",
              "      <td>0.000000</td>\n",
              "      <td>0.000000</td>\n",
              "    </tr>\n",
              "    <tr>\n",
              "      <th>25%</th>\n",
              "      <td>50.677890</td>\n",
              "      <td>4.201395</td>\n",
              "      <td>161.328167</td>\n",
              "      <td>49.315437</td>\n",
              "    </tr>\n",
              "    <tr>\n",
              "      <th>50%</th>\n",
              "      <td>825.838074</td>\n",
              "      <td>7.104594</td>\n",
              "      <td>1063.776283</td>\n",
              "      <td>73.712978</td>\n",
              "    </tr>\n",
              "    <tr>\n",
              "      <th>75%</th>\n",
              "      <td>2482.507568</td>\n",
              "      <td>10.300020</td>\n",
              "      <td>2964.972462</td>\n",
              "      <td>201.696720</td>\n",
              "    </tr>\n",
              "    <tr>\n",
              "      <th>max</th>\n",
              "      <td>3618.732910</td>\n",
              "      <td>25.206011</td>\n",
              "      <td>3600.000000</td>\n",
              "      <td>359.997589</td>\n",
              "    </tr>\n",
              "  </tbody>\n",
              "</table>\n",
              "</div>\n",
              "      <button class=\"colab-df-convert\" onclick=\"convertToInteractive('df-574c009f-6aa8-4a12-8973-81150c9ec366')\"\n",
              "              title=\"Convert this dataframe to an interactive table.\"\n",
              "              style=\"display:none;\">\n",
              "        \n",
              "  <svg xmlns=\"http://www.w3.org/2000/svg\" height=\"24px\"viewBox=\"0 0 24 24\"\n",
              "       width=\"24px\">\n",
              "    <path d=\"M0 0h24v24H0V0z\" fill=\"none\"/>\n",
              "    <path d=\"M18.56 5.44l.94 2.06.94-2.06 2.06-.94-2.06-.94-.94-2.06-.94 2.06-2.06.94zm-11 1L8.5 8.5l.94-2.06 2.06-.94-2.06-.94L8.5 2.5l-.94 2.06-2.06.94zm10 10l.94 2.06.94-2.06 2.06-.94-2.06-.94-.94-2.06-.94 2.06-2.06.94z\"/><path d=\"M17.41 7.96l-1.37-1.37c-.4-.4-.92-.59-1.43-.59-.52 0-1.04.2-1.43.59L10.3 9.45l-7.72 7.72c-.78.78-.78 2.05 0 2.83L4 21.41c.39.39.9.59 1.41.59.51 0 1.02-.2 1.41-.59l7.78-7.78 2.81-2.81c.8-.78.8-2.07 0-2.86zM5.41 20L4 18.59l7.72-7.72 1.47 1.35L5.41 20z\"/>\n",
              "  </svg>\n",
              "      </button>\n",
              "      \n",
              "  <style>\n",
              "    .colab-df-container {\n",
              "      display:flex;\n",
              "      flex-wrap:wrap;\n",
              "      gap: 12px;\n",
              "    }\n",
              "\n",
              "    .colab-df-convert {\n",
              "      background-color: #E8F0FE;\n",
              "      border: none;\n",
              "      border-radius: 50%;\n",
              "      cursor: pointer;\n",
              "      display: none;\n",
              "      fill: #1967D2;\n",
              "      height: 32px;\n",
              "      padding: 0 0 0 0;\n",
              "      width: 32px;\n",
              "    }\n",
              "\n",
              "    .colab-df-convert:hover {\n",
              "      background-color: #E2EBFA;\n",
              "      box-shadow: 0px 1px 2px rgba(60, 64, 67, 0.3), 0px 1px 3px 1px rgba(60, 64, 67, 0.15);\n",
              "      fill: #174EA6;\n",
              "    }\n",
              "\n",
              "    [theme=dark] .colab-df-convert {\n",
              "      background-color: #3B4455;\n",
              "      fill: #D2E3FC;\n",
              "    }\n",
              "\n",
              "    [theme=dark] .colab-df-convert:hover {\n",
              "      background-color: #434B5C;\n",
              "      box-shadow: 0px 1px 3px 1px rgba(0, 0, 0, 0.15);\n",
              "      filter: drop-shadow(0px 1px 2px rgba(0, 0, 0, 0.3));\n",
              "      fill: #FFFFFF;\n",
              "    }\n",
              "  </style>\n",
              "\n",
              "      <script>\n",
              "        const buttonEl =\n",
              "          document.querySelector('#df-574c009f-6aa8-4a12-8973-81150c9ec366 button.colab-df-convert');\n",
              "        buttonEl.style.display =\n",
              "          google.colab.kernel.accessAllowed ? 'block' : 'none';\n",
              "\n",
              "        async function convertToInteractive(key) {\n",
              "          const element = document.querySelector('#df-574c009f-6aa8-4a12-8973-81150c9ec366');\n",
              "          const dataTable =\n",
              "            await google.colab.kernel.invokeFunction('convertToInteractive',\n",
              "                                                     [key], {});\n",
              "          if (!dataTable) return;\n",
              "\n",
              "          const docLinkHtml = 'Like what you see? Visit the ' +\n",
              "            '<a target=\"_blank\" href=https://colab.research.google.com/notebooks/data_table.ipynb>data table notebook</a>'\n",
              "            + ' to learn more about interactive tables.';\n",
              "          element.innerHTML = '';\n",
              "          dataTable['output_type'] = 'display_data';\n",
              "          await google.colab.output.renderOutput(dataTable, element);\n",
              "          const docLink = document.createElement('div');\n",
              "          docLink.innerHTML = docLinkHtml;\n",
              "          element.appendChild(docLink);\n",
              "        }\n",
              "      </script>\n",
              "    </div>\n",
              "  </div>\n",
              "  "
            ]
          },
          "metadata": {},
          "execution_count": 5
        }
      ]
    },
    {
      "cell_type": "code",
      "source": [
        "data.info()"
      ],
      "metadata": {
        "colab": {
          "base_uri": "https://localhost:8080/"
        },
        "id": "ZDiSuxbVkG3R",
        "outputId": "e15f66d7-5084-452b-d35e-023ea277afa2"
      },
      "execution_count": 6,
      "outputs": [
        {
          "output_type": "stream",
          "name": "stdout",
          "text": [
            "<class 'pandas.core.frame.DataFrame'>\n",
            "RangeIndex: 50530 entries, 0 to 50529\n",
            "Data columns (total 5 columns):\n",
            " #   Column                      Non-Null Count  Dtype  \n",
            "---  ------                      --------------  -----  \n",
            " 0   Date/Time                   50530 non-null  object \n",
            " 1   ActivePower(kW)             50530 non-null  float64\n",
            " 2   WindSpeed(m/s)              50530 non-null  float64\n",
            " 3   TheoreticalPowerCurve(KWh)  50530 non-null  float64\n",
            " 4   WindDirection               50530 non-null  float64\n",
            "dtypes: float64(4), object(1)\n",
            "memory usage: 1.9+ MB\n"
          ]
        }
      ]
    },
    {
      "cell_type": "code",
      "source": [
        "data.isnull().any()"
      ],
      "metadata": {
        "colab": {
          "base_uri": "https://localhost:8080/"
        },
        "id": "t_-jaOjAkLGT",
        "outputId": "ecae2869-93a8-42e3-e9ed-efc726cb0d0e"
      },
      "execution_count": 7,
      "outputs": [
        {
          "output_type": "execute_result",
          "data": {
            "text/plain": [
              "Date/Time                     False\n",
              "ActivePower(kW)               False\n",
              "WindSpeed(m/s)                False\n",
              "TheoreticalPowerCurve(KWh)    False\n",
              "WindDirection                 False\n",
              "dtype: bool"
            ]
          },
          "metadata": {},
          "execution_count": 7
        }
      ]
    },
    {
      "cell_type": "markdown",
      "source": [
        "Data Preprocessing"
      ],
      "metadata": {
        "id": "zvwPu8T5kQJc"
      }
    },
    {
      "cell_type": "code",
      "source": [
        "data['Date/Time'] = pd.to_datetime(data['Date/Time'],format='%d %m %Y %H:%M')\n",
        "data['year'] = data['Date/Time'].dt.year \n",
        "data['month'] = data['Date/Time'].dt.month \n",
        "data['day'] = data['Date/Time'].dt.day\n",
        "data['Hour'] = data['Date/Time'].dt.hour \n",
        "data['minute'] = data['Date/Time'].dt.minute \n",
        "data.head()"
      ],
      "metadata": {
        "colab": {
          "base_uri": "https://localhost:8080/",
          "height": 206
        },
        "id": "c35Bt3IxkPJr",
        "outputId": "b3fe48b3-0adc-431c-8af2-667fc7102bb9"
      },
      "execution_count": 8,
      "outputs": [
        {
          "output_type": "execute_result",
          "data": {
            "text/plain": [
              "            Date/Time  ActivePower(kW)  WindSpeed(m/s)  \\\n",
              "0 2018-01-01 00:00:00       380.047791        5.311336   \n",
              "1 2018-01-01 00:10:00       453.769196        5.672167   \n",
              "2 2018-01-01 00:20:00       306.376587        5.216037   \n",
              "3 2018-01-01 00:30:00       419.645905        5.659674   \n",
              "4 2018-01-01 00:40:00       380.650696        5.577941   \n",
              "\n",
              "   TheoreticalPowerCurve(KWh)  WindDirection  year  month  day  Hour  minute  \n",
              "0                  416.328908     259.994904  2018      1    1     0       0  \n",
              "1                  519.917511     268.641113  2018      1    1     0      10  \n",
              "2                  390.900016     272.564789  2018      1    1     0      20  \n",
              "3                  516.127569     271.258087  2018      1    1     0      30  \n",
              "4                  491.702972     265.674286  2018      1    1     0      40  "
            ],
            "text/html": [
              "\n",
              "  <div id=\"df-bf6bd7e2-2503-4424-bbeb-ebf04d2d92a9\">\n",
              "    <div class=\"colab-df-container\">\n",
              "      <div>\n",
              "<style scoped>\n",
              "    .dataframe tbody tr th:only-of-type {\n",
              "        vertical-align: middle;\n",
              "    }\n",
              "\n",
              "    .dataframe tbody tr th {\n",
              "        vertical-align: top;\n",
              "    }\n",
              "\n",
              "    .dataframe thead th {\n",
              "        text-align: right;\n",
              "    }\n",
              "</style>\n",
              "<table border=\"1\" class=\"dataframe\">\n",
              "  <thead>\n",
              "    <tr style=\"text-align: right;\">\n",
              "      <th></th>\n",
              "      <th>Date/Time</th>\n",
              "      <th>ActivePower(kW)</th>\n",
              "      <th>WindSpeed(m/s)</th>\n",
              "      <th>TheoreticalPowerCurve(KWh)</th>\n",
              "      <th>WindDirection</th>\n",
              "      <th>year</th>\n",
              "      <th>month</th>\n",
              "      <th>day</th>\n",
              "      <th>Hour</th>\n",
              "      <th>minute</th>\n",
              "    </tr>\n",
              "  </thead>\n",
              "  <tbody>\n",
              "    <tr>\n",
              "      <th>0</th>\n",
              "      <td>2018-01-01 00:00:00</td>\n",
              "      <td>380.047791</td>\n",
              "      <td>5.311336</td>\n",
              "      <td>416.328908</td>\n",
              "      <td>259.994904</td>\n",
              "      <td>2018</td>\n",
              "      <td>1</td>\n",
              "      <td>1</td>\n",
              "      <td>0</td>\n",
              "      <td>0</td>\n",
              "    </tr>\n",
              "    <tr>\n",
              "      <th>1</th>\n",
              "      <td>2018-01-01 00:10:00</td>\n",
              "      <td>453.769196</td>\n",
              "      <td>5.672167</td>\n",
              "      <td>519.917511</td>\n",
              "      <td>268.641113</td>\n",
              "      <td>2018</td>\n",
              "      <td>1</td>\n",
              "      <td>1</td>\n",
              "      <td>0</td>\n",
              "      <td>10</td>\n",
              "    </tr>\n",
              "    <tr>\n",
              "      <th>2</th>\n",
              "      <td>2018-01-01 00:20:00</td>\n",
              "      <td>306.376587</td>\n",
              "      <td>5.216037</td>\n",
              "      <td>390.900016</td>\n",
              "      <td>272.564789</td>\n",
              "      <td>2018</td>\n",
              "      <td>1</td>\n",
              "      <td>1</td>\n",
              "      <td>0</td>\n",
              "      <td>20</td>\n",
              "    </tr>\n",
              "    <tr>\n",
              "      <th>3</th>\n",
              "      <td>2018-01-01 00:30:00</td>\n",
              "      <td>419.645905</td>\n",
              "      <td>5.659674</td>\n",
              "      <td>516.127569</td>\n",
              "      <td>271.258087</td>\n",
              "      <td>2018</td>\n",
              "      <td>1</td>\n",
              "      <td>1</td>\n",
              "      <td>0</td>\n",
              "      <td>30</td>\n",
              "    </tr>\n",
              "    <tr>\n",
              "      <th>4</th>\n",
              "      <td>2018-01-01 00:40:00</td>\n",
              "      <td>380.650696</td>\n",
              "      <td>5.577941</td>\n",
              "      <td>491.702972</td>\n",
              "      <td>265.674286</td>\n",
              "      <td>2018</td>\n",
              "      <td>1</td>\n",
              "      <td>1</td>\n",
              "      <td>0</td>\n",
              "      <td>40</td>\n",
              "    </tr>\n",
              "  </tbody>\n",
              "</table>\n",
              "</div>\n",
              "      <button class=\"colab-df-convert\" onclick=\"convertToInteractive('df-bf6bd7e2-2503-4424-bbeb-ebf04d2d92a9')\"\n",
              "              title=\"Convert this dataframe to an interactive table.\"\n",
              "              style=\"display:none;\">\n",
              "        \n",
              "  <svg xmlns=\"http://www.w3.org/2000/svg\" height=\"24px\"viewBox=\"0 0 24 24\"\n",
              "       width=\"24px\">\n",
              "    <path d=\"M0 0h24v24H0V0z\" fill=\"none\"/>\n",
              "    <path d=\"M18.56 5.44l.94 2.06.94-2.06 2.06-.94-2.06-.94-.94-2.06-.94 2.06-2.06.94zm-11 1L8.5 8.5l.94-2.06 2.06-.94-2.06-.94L8.5 2.5l-.94 2.06-2.06.94zm10 10l.94 2.06.94-2.06 2.06-.94-2.06-.94-.94-2.06-.94 2.06-2.06.94z\"/><path d=\"M17.41 7.96l-1.37-1.37c-.4-.4-.92-.59-1.43-.59-.52 0-1.04.2-1.43.59L10.3 9.45l-7.72 7.72c-.78.78-.78 2.05 0 2.83L4 21.41c.39.39.9.59 1.41.59.51 0 1.02-.2 1.41-.59l7.78-7.78 2.81-2.81c.8-.78.8-2.07 0-2.86zM5.41 20L4 18.59l7.72-7.72 1.47 1.35L5.41 20z\"/>\n",
              "  </svg>\n",
              "      </button>\n",
              "      \n",
              "  <style>\n",
              "    .colab-df-container {\n",
              "      display:flex;\n",
              "      flex-wrap:wrap;\n",
              "      gap: 12px;\n",
              "    }\n",
              "\n",
              "    .colab-df-convert {\n",
              "      background-color: #E8F0FE;\n",
              "      border: none;\n",
              "      border-radius: 50%;\n",
              "      cursor: pointer;\n",
              "      display: none;\n",
              "      fill: #1967D2;\n",
              "      height: 32px;\n",
              "      padding: 0 0 0 0;\n",
              "      width: 32px;\n",
              "    }\n",
              "\n",
              "    .colab-df-convert:hover {\n",
              "      background-color: #E2EBFA;\n",
              "      box-shadow: 0px 1px 2px rgba(60, 64, 67, 0.3), 0px 1px 3px 1px rgba(60, 64, 67, 0.15);\n",
              "      fill: #174EA6;\n",
              "    }\n",
              "\n",
              "    [theme=dark] .colab-df-convert {\n",
              "      background-color: #3B4455;\n",
              "      fill: #D2E3FC;\n",
              "    }\n",
              "\n",
              "    [theme=dark] .colab-df-convert:hover {\n",
              "      background-color: #434B5C;\n",
              "      box-shadow: 0px 1px 3px 1px rgba(0, 0, 0, 0.15);\n",
              "      filter: drop-shadow(0px 1px 2px rgba(0, 0, 0, 0.3));\n",
              "      fill: #FFFFFF;\n",
              "    }\n",
              "  </style>\n",
              "\n",
              "      <script>\n",
              "        const buttonEl =\n",
              "          document.querySelector('#df-bf6bd7e2-2503-4424-bbeb-ebf04d2d92a9 button.colab-df-convert');\n",
              "        buttonEl.style.display =\n",
              "          google.colab.kernel.accessAllowed ? 'block' : 'none';\n",
              "\n",
              "        async function convertToInteractive(key) {\n",
              "          const element = document.querySelector('#df-bf6bd7e2-2503-4424-bbeb-ebf04d2d92a9');\n",
              "          const dataTable =\n",
              "            await google.colab.kernel.invokeFunction('convertToInteractive',\n",
              "                                                     [key], {});\n",
              "          if (!dataTable) return;\n",
              "\n",
              "          const docLinkHtml = 'Like what you see? Visit the ' +\n",
              "            '<a target=\"_blank\" href=https://colab.research.google.com/notebooks/data_table.ipynb>data table notebook</a>'\n",
              "            + ' to learn more about interactive tables.';\n",
              "          element.innerHTML = '';\n",
              "          dataTable['output_type'] = 'display_data';\n",
              "          await google.colab.output.renderOutput(dataTable, element);\n",
              "          const docLink = document.createElement('div');\n",
              "          docLink.innerHTML = docLinkHtml;\n",
              "          element.appendChild(docLink);\n",
              "        }\n",
              "      </script>\n",
              "    </div>\n",
              "  </div>\n",
              "  "
            ]
          },
          "metadata": {},
          "execution_count": 8
        }
      ]
    },
    {
      "cell_type": "code",
      "source": [
        "data[\"Date/Time\"] = pd.to_datetime(data[\"Date/Time\"], format = \"%d %m %Y %H:%M\", errors = \"coerce\")\n",
        "data"
      ],
      "metadata": {
        "colab": {
          "base_uri": "https://localhost:8080/",
          "height": 424
        },
        "id": "Q7UldJABkWQt",
        "outputId": "453392e8-420a-4172-dce3-c8434e1ad79e"
      },
      "execution_count": 9,
      "outputs": [
        {
          "output_type": "execute_result",
          "data": {
            "text/plain": [
              "                Date/Time  ActivePower(kW)  WindSpeed(m/s)  \\\n",
              "0     2018-01-01 00:00:00       380.047791        5.311336   \n",
              "1     2018-01-01 00:10:00       453.769196        5.672167   \n",
              "2     2018-01-01 00:20:00       306.376587        5.216037   \n",
              "3     2018-01-01 00:30:00       419.645905        5.659674   \n",
              "4     2018-01-01 00:40:00       380.650696        5.577941   \n",
              "...                   ...              ...             ...   \n",
              "50525 2018-12-31 23:10:00      2963.980957       11.404030   \n",
              "50526 2018-12-31 23:20:00      1684.353027        7.332648   \n",
              "50527 2018-12-31 23:30:00      2201.106934        8.435358   \n",
              "50528 2018-12-31 23:40:00      2515.694092        9.421366   \n",
              "50529 2018-12-31 23:50:00      2820.466064        9.979332   \n",
              "\n",
              "       TheoreticalPowerCurve(KWh)  WindDirection  year  month  day  Hour  \\\n",
              "0                      416.328908     259.994904  2018      1    1     0   \n",
              "1                      519.917511     268.641113  2018      1    1     0   \n",
              "2                      390.900016     272.564789  2018      1    1     0   \n",
              "3                      516.127569     271.258087  2018      1    1     0   \n",
              "4                      491.702972     265.674286  2018      1    1     0   \n",
              "...                           ...            ...   ...    ...  ...   ...   \n",
              "50525                 3397.190793      80.502724  2018     12   31    23   \n",
              "50526                 1173.055771      84.062599  2018     12   31    23   \n",
              "50527                 1788.284755      84.742500  2018     12   31    23   \n",
              "50528                 2418.382503      84.297913  2018     12   31    23   \n",
              "50529                 2779.184096      82.274620  2018     12   31    23   \n",
              "\n",
              "       minute  \n",
              "0           0  \n",
              "1          10  \n",
              "2          20  \n",
              "3          30  \n",
              "4          40  \n",
              "...       ...  \n",
              "50525      10  \n",
              "50526      20  \n",
              "50527      30  \n",
              "50528      40  \n",
              "50529      50  \n",
              "\n",
              "[50530 rows x 10 columns]"
            ],
            "text/html": [
              "\n",
              "  <div id=\"df-98875727-476e-4a01-be57-5c124806781b\">\n",
              "    <div class=\"colab-df-container\">\n",
              "      <div>\n",
              "<style scoped>\n",
              "    .dataframe tbody tr th:only-of-type {\n",
              "        vertical-align: middle;\n",
              "    }\n",
              "\n",
              "    .dataframe tbody tr th {\n",
              "        vertical-align: top;\n",
              "    }\n",
              "\n",
              "    .dataframe thead th {\n",
              "        text-align: right;\n",
              "    }\n",
              "</style>\n",
              "<table border=\"1\" class=\"dataframe\">\n",
              "  <thead>\n",
              "    <tr style=\"text-align: right;\">\n",
              "      <th></th>\n",
              "      <th>Date/Time</th>\n",
              "      <th>ActivePower(kW)</th>\n",
              "      <th>WindSpeed(m/s)</th>\n",
              "      <th>TheoreticalPowerCurve(KWh)</th>\n",
              "      <th>WindDirection</th>\n",
              "      <th>year</th>\n",
              "      <th>month</th>\n",
              "      <th>day</th>\n",
              "      <th>Hour</th>\n",
              "      <th>minute</th>\n",
              "    </tr>\n",
              "  </thead>\n",
              "  <tbody>\n",
              "    <tr>\n",
              "      <th>0</th>\n",
              "      <td>2018-01-01 00:00:00</td>\n",
              "      <td>380.047791</td>\n",
              "      <td>5.311336</td>\n",
              "      <td>416.328908</td>\n",
              "      <td>259.994904</td>\n",
              "      <td>2018</td>\n",
              "      <td>1</td>\n",
              "      <td>1</td>\n",
              "      <td>0</td>\n",
              "      <td>0</td>\n",
              "    </tr>\n",
              "    <tr>\n",
              "      <th>1</th>\n",
              "      <td>2018-01-01 00:10:00</td>\n",
              "      <td>453.769196</td>\n",
              "      <td>5.672167</td>\n",
              "      <td>519.917511</td>\n",
              "      <td>268.641113</td>\n",
              "      <td>2018</td>\n",
              "      <td>1</td>\n",
              "      <td>1</td>\n",
              "      <td>0</td>\n",
              "      <td>10</td>\n",
              "    </tr>\n",
              "    <tr>\n",
              "      <th>2</th>\n",
              "      <td>2018-01-01 00:20:00</td>\n",
              "      <td>306.376587</td>\n",
              "      <td>5.216037</td>\n",
              "      <td>390.900016</td>\n",
              "      <td>272.564789</td>\n",
              "      <td>2018</td>\n",
              "      <td>1</td>\n",
              "      <td>1</td>\n",
              "      <td>0</td>\n",
              "      <td>20</td>\n",
              "    </tr>\n",
              "    <tr>\n",
              "      <th>3</th>\n",
              "      <td>2018-01-01 00:30:00</td>\n",
              "      <td>419.645905</td>\n",
              "      <td>5.659674</td>\n",
              "      <td>516.127569</td>\n",
              "      <td>271.258087</td>\n",
              "      <td>2018</td>\n",
              "      <td>1</td>\n",
              "      <td>1</td>\n",
              "      <td>0</td>\n",
              "      <td>30</td>\n",
              "    </tr>\n",
              "    <tr>\n",
              "      <th>4</th>\n",
              "      <td>2018-01-01 00:40:00</td>\n",
              "      <td>380.650696</td>\n",
              "      <td>5.577941</td>\n",
              "      <td>491.702972</td>\n",
              "      <td>265.674286</td>\n",
              "      <td>2018</td>\n",
              "      <td>1</td>\n",
              "      <td>1</td>\n",
              "      <td>0</td>\n",
              "      <td>40</td>\n",
              "    </tr>\n",
              "    <tr>\n",
              "      <th>...</th>\n",
              "      <td>...</td>\n",
              "      <td>...</td>\n",
              "      <td>...</td>\n",
              "      <td>...</td>\n",
              "      <td>...</td>\n",
              "      <td>...</td>\n",
              "      <td>...</td>\n",
              "      <td>...</td>\n",
              "      <td>...</td>\n",
              "      <td>...</td>\n",
              "    </tr>\n",
              "    <tr>\n",
              "      <th>50525</th>\n",
              "      <td>2018-12-31 23:10:00</td>\n",
              "      <td>2963.980957</td>\n",
              "      <td>11.404030</td>\n",
              "      <td>3397.190793</td>\n",
              "      <td>80.502724</td>\n",
              "      <td>2018</td>\n",
              "      <td>12</td>\n",
              "      <td>31</td>\n",
              "      <td>23</td>\n",
              "      <td>10</td>\n",
              "    </tr>\n",
              "    <tr>\n",
              "      <th>50526</th>\n",
              "      <td>2018-12-31 23:20:00</td>\n",
              "      <td>1684.353027</td>\n",
              "      <td>7.332648</td>\n",
              "      <td>1173.055771</td>\n",
              "      <td>84.062599</td>\n",
              "      <td>2018</td>\n",
              "      <td>12</td>\n",
              "      <td>31</td>\n",
              "      <td>23</td>\n",
              "      <td>20</td>\n",
              "    </tr>\n",
              "    <tr>\n",
              "      <th>50527</th>\n",
              "      <td>2018-12-31 23:30:00</td>\n",
              "      <td>2201.106934</td>\n",
              "      <td>8.435358</td>\n",
              "      <td>1788.284755</td>\n",
              "      <td>84.742500</td>\n",
              "      <td>2018</td>\n",
              "      <td>12</td>\n",
              "      <td>31</td>\n",
              "      <td>23</td>\n",
              "      <td>30</td>\n",
              "    </tr>\n",
              "    <tr>\n",
              "      <th>50528</th>\n",
              "      <td>2018-12-31 23:40:00</td>\n",
              "      <td>2515.694092</td>\n",
              "      <td>9.421366</td>\n",
              "      <td>2418.382503</td>\n",
              "      <td>84.297913</td>\n",
              "      <td>2018</td>\n",
              "      <td>12</td>\n",
              "      <td>31</td>\n",
              "      <td>23</td>\n",
              "      <td>40</td>\n",
              "    </tr>\n",
              "    <tr>\n",
              "      <th>50529</th>\n",
              "      <td>2018-12-31 23:50:00</td>\n",
              "      <td>2820.466064</td>\n",
              "      <td>9.979332</td>\n",
              "      <td>2779.184096</td>\n",
              "      <td>82.274620</td>\n",
              "      <td>2018</td>\n",
              "      <td>12</td>\n",
              "      <td>31</td>\n",
              "      <td>23</td>\n",
              "      <td>50</td>\n",
              "    </tr>\n",
              "  </tbody>\n",
              "</table>\n",
              "<p>50530 rows × 10 columns</p>\n",
              "</div>\n",
              "      <button class=\"colab-df-convert\" onclick=\"convertToInteractive('df-98875727-476e-4a01-be57-5c124806781b')\"\n",
              "              title=\"Convert this dataframe to an interactive table.\"\n",
              "              style=\"display:none;\">\n",
              "        \n",
              "  <svg xmlns=\"http://www.w3.org/2000/svg\" height=\"24px\"viewBox=\"0 0 24 24\"\n",
              "       width=\"24px\">\n",
              "    <path d=\"M0 0h24v24H0V0z\" fill=\"none\"/>\n",
              "    <path d=\"M18.56 5.44l.94 2.06.94-2.06 2.06-.94-2.06-.94-.94-2.06-.94 2.06-2.06.94zm-11 1L8.5 8.5l.94-2.06 2.06-.94-2.06-.94L8.5 2.5l-.94 2.06-2.06.94zm10 10l.94 2.06.94-2.06 2.06-.94-2.06-.94-.94-2.06-.94 2.06-2.06.94z\"/><path d=\"M17.41 7.96l-1.37-1.37c-.4-.4-.92-.59-1.43-.59-.52 0-1.04.2-1.43.59L10.3 9.45l-7.72 7.72c-.78.78-.78 2.05 0 2.83L4 21.41c.39.39.9.59 1.41.59.51 0 1.02-.2 1.41-.59l7.78-7.78 2.81-2.81c.8-.78.8-2.07 0-2.86zM5.41 20L4 18.59l7.72-7.72 1.47 1.35L5.41 20z\"/>\n",
              "  </svg>\n",
              "      </button>\n",
              "      \n",
              "  <style>\n",
              "    .colab-df-container {\n",
              "      display:flex;\n",
              "      flex-wrap:wrap;\n",
              "      gap: 12px;\n",
              "    }\n",
              "\n",
              "    .colab-df-convert {\n",
              "      background-color: #E8F0FE;\n",
              "      border: none;\n",
              "      border-radius: 50%;\n",
              "      cursor: pointer;\n",
              "      display: none;\n",
              "      fill: #1967D2;\n",
              "      height: 32px;\n",
              "      padding: 0 0 0 0;\n",
              "      width: 32px;\n",
              "    }\n",
              "\n",
              "    .colab-df-convert:hover {\n",
              "      background-color: #E2EBFA;\n",
              "      box-shadow: 0px 1px 2px rgba(60, 64, 67, 0.3), 0px 1px 3px 1px rgba(60, 64, 67, 0.15);\n",
              "      fill: #174EA6;\n",
              "    }\n",
              "\n",
              "    [theme=dark] .colab-df-convert {\n",
              "      background-color: #3B4455;\n",
              "      fill: #D2E3FC;\n",
              "    }\n",
              "\n",
              "    [theme=dark] .colab-df-convert:hover {\n",
              "      background-color: #434B5C;\n",
              "      box-shadow: 0px 1px 3px 1px rgba(0, 0, 0, 0.15);\n",
              "      filter: drop-shadow(0px 1px 2px rgba(0, 0, 0, 0.3));\n",
              "      fill: #FFFFFF;\n",
              "    }\n",
              "  </style>\n",
              "\n",
              "      <script>\n",
              "        const buttonEl =\n",
              "          document.querySelector('#df-98875727-476e-4a01-be57-5c124806781b button.colab-df-convert');\n",
              "        buttonEl.style.display =\n",
              "          google.colab.kernel.accessAllowed ? 'block' : 'none';\n",
              "\n",
              "        async function convertToInteractive(key) {\n",
              "          const element = document.querySelector('#df-98875727-476e-4a01-be57-5c124806781b');\n",
              "          const dataTable =\n",
              "            await google.colab.kernel.invokeFunction('convertToInteractive',\n",
              "                                                     [key], {});\n",
              "          if (!dataTable) return;\n",
              "\n",
              "          const docLinkHtml = 'Like what you see? Visit the ' +\n",
              "            '<a target=\"_blank\" href=https://colab.research.google.com/notebooks/data_table.ipynb>data table notebook</a>'\n",
              "            + ' to learn more about interactive tables.';\n",
              "          element.innerHTML = '';\n",
              "          dataTable['output_type'] = 'display_data';\n",
              "          await google.colab.output.renderOutput(dataTable, element);\n",
              "          const docLink = document.createElement('div');\n",
              "          docLink.innerHTML = docLinkHtml;\n",
              "          element.appendChild(docLink);\n",
              "        }\n",
              "      </script>\n",
              "    </div>\n",
              "  </div>\n",
              "  "
            ]
          },
          "metadata": {},
          "execution_count": 9
        }
      ]
    },
    {
      "cell_type": "markdown",
      "source": [
        "Splitting the dataset"
      ],
      "metadata": {
        "id": "iRnp6IDYkd10"
      }
    },
    {
      "cell_type": "code",
      "source": [
        "X=data[['WindSpeed(m/s)','WindDirection']]\n",
        "X.head()"
      ],
      "metadata": {
        "colab": {
          "base_uri": "https://localhost:8080/",
          "height": 206
        },
        "id": "uqt180dTkaUs",
        "outputId": "e1fc208b-b9ce-4efe-9d80-9ae544ad8533"
      },
      "execution_count": 10,
      "outputs": [
        {
          "output_type": "execute_result",
          "data": {
            "text/plain": [
              "   WindSpeed(m/s)  WindDirection\n",
              "0        5.311336     259.994904\n",
              "1        5.672167     268.641113\n",
              "2        5.216037     272.564789\n",
              "3        5.659674     271.258087\n",
              "4        5.577941     265.674286"
            ],
            "text/html": [
              "\n",
              "  <div id=\"df-1bb3225c-6a24-4d51-b0ad-341a3e67a549\">\n",
              "    <div class=\"colab-df-container\">\n",
              "      <div>\n",
              "<style scoped>\n",
              "    .dataframe tbody tr th:only-of-type {\n",
              "        vertical-align: middle;\n",
              "    }\n",
              "\n",
              "    .dataframe tbody tr th {\n",
              "        vertical-align: top;\n",
              "    }\n",
              "\n",
              "    .dataframe thead th {\n",
              "        text-align: right;\n",
              "    }\n",
              "</style>\n",
              "<table border=\"1\" class=\"dataframe\">\n",
              "  <thead>\n",
              "    <tr style=\"text-align: right;\">\n",
              "      <th></th>\n",
              "      <th>WindSpeed(m/s)</th>\n",
              "      <th>WindDirection</th>\n",
              "    </tr>\n",
              "  </thead>\n",
              "  <tbody>\n",
              "    <tr>\n",
              "      <th>0</th>\n",
              "      <td>5.311336</td>\n",
              "      <td>259.994904</td>\n",
              "    </tr>\n",
              "    <tr>\n",
              "      <th>1</th>\n",
              "      <td>5.672167</td>\n",
              "      <td>268.641113</td>\n",
              "    </tr>\n",
              "    <tr>\n",
              "      <th>2</th>\n",
              "      <td>5.216037</td>\n",
              "      <td>272.564789</td>\n",
              "    </tr>\n",
              "    <tr>\n",
              "      <th>3</th>\n",
              "      <td>5.659674</td>\n",
              "      <td>271.258087</td>\n",
              "    </tr>\n",
              "    <tr>\n",
              "      <th>4</th>\n",
              "      <td>5.577941</td>\n",
              "      <td>265.674286</td>\n",
              "    </tr>\n",
              "  </tbody>\n",
              "</table>\n",
              "</div>\n",
              "      <button class=\"colab-df-convert\" onclick=\"convertToInteractive('df-1bb3225c-6a24-4d51-b0ad-341a3e67a549')\"\n",
              "              title=\"Convert this dataframe to an interactive table.\"\n",
              "              style=\"display:none;\">\n",
              "        \n",
              "  <svg xmlns=\"http://www.w3.org/2000/svg\" height=\"24px\"viewBox=\"0 0 24 24\"\n",
              "       width=\"24px\">\n",
              "    <path d=\"M0 0h24v24H0V0z\" fill=\"none\"/>\n",
              "    <path d=\"M18.56 5.44l.94 2.06.94-2.06 2.06-.94-2.06-.94-.94-2.06-.94 2.06-2.06.94zm-11 1L8.5 8.5l.94-2.06 2.06-.94-2.06-.94L8.5 2.5l-.94 2.06-2.06.94zm10 10l.94 2.06.94-2.06 2.06-.94-2.06-.94-.94-2.06-.94 2.06-2.06.94z\"/><path d=\"M17.41 7.96l-1.37-1.37c-.4-.4-.92-.59-1.43-.59-.52 0-1.04.2-1.43.59L10.3 9.45l-7.72 7.72c-.78.78-.78 2.05 0 2.83L4 21.41c.39.39.9.59 1.41.59.51 0 1.02-.2 1.41-.59l7.78-7.78 2.81-2.81c.8-.78.8-2.07 0-2.86zM5.41 20L4 18.59l7.72-7.72 1.47 1.35L5.41 20z\"/>\n",
              "  </svg>\n",
              "      </button>\n",
              "      \n",
              "  <style>\n",
              "    .colab-df-container {\n",
              "      display:flex;\n",
              "      flex-wrap:wrap;\n",
              "      gap: 12px;\n",
              "    }\n",
              "\n",
              "    .colab-df-convert {\n",
              "      background-color: #E8F0FE;\n",
              "      border: none;\n",
              "      border-radius: 50%;\n",
              "      cursor: pointer;\n",
              "      display: none;\n",
              "      fill: #1967D2;\n",
              "      height: 32px;\n",
              "      padding: 0 0 0 0;\n",
              "      width: 32px;\n",
              "    }\n",
              "\n",
              "    .colab-df-convert:hover {\n",
              "      background-color: #E2EBFA;\n",
              "      box-shadow: 0px 1px 2px rgba(60, 64, 67, 0.3), 0px 1px 3px 1px rgba(60, 64, 67, 0.15);\n",
              "      fill: #174EA6;\n",
              "    }\n",
              "\n",
              "    [theme=dark] .colab-df-convert {\n",
              "      background-color: #3B4455;\n",
              "      fill: #D2E3FC;\n",
              "    }\n",
              "\n",
              "    [theme=dark] .colab-df-convert:hover {\n",
              "      background-color: #434B5C;\n",
              "      box-shadow: 0px 1px 3px 1px rgba(0, 0, 0, 0.15);\n",
              "      filter: drop-shadow(0px 1px 2px rgba(0, 0, 0, 0.3));\n",
              "      fill: #FFFFFF;\n",
              "    }\n",
              "  </style>\n",
              "\n",
              "      <script>\n",
              "        const buttonEl =\n",
              "          document.querySelector('#df-1bb3225c-6a24-4d51-b0ad-341a3e67a549 button.colab-df-convert');\n",
              "        buttonEl.style.display =\n",
              "          google.colab.kernel.accessAllowed ? 'block' : 'none';\n",
              "\n",
              "        async function convertToInteractive(key) {\n",
              "          const element = document.querySelector('#df-1bb3225c-6a24-4d51-b0ad-341a3e67a549');\n",
              "          const dataTable =\n",
              "            await google.colab.kernel.invokeFunction('convertToInteractive',\n",
              "                                                     [key], {});\n",
              "          if (!dataTable) return;\n",
              "\n",
              "          const docLinkHtml = 'Like what you see? Visit the ' +\n",
              "            '<a target=\"_blank\" href=https://colab.research.google.com/notebooks/data_table.ipynb>data table notebook</a>'\n",
              "            + ' to learn more about interactive tables.';\n",
              "          element.innerHTML = '';\n",
              "          dataTable['output_type'] = 'display_data';\n",
              "          await google.colab.output.renderOutput(dataTable, element);\n",
              "          const docLink = document.createElement('div');\n",
              "          docLink.innerHTML = docLinkHtml;\n",
              "          element.appendChild(docLink);\n",
              "        }\n",
              "      </script>\n",
              "    </div>\n",
              "  </div>\n",
              "  "
            ]
          },
          "metadata": {},
          "execution_count": 10
        }
      ]
    },
    {
      "cell_type": "code",
      "source": [
        "y = data['ActivePower(kW)']\n",
        "y.head()"
      ],
      "metadata": {
        "colab": {
          "base_uri": "https://localhost:8080/"
        },
        "id": "YIz0Xy8FkjSO",
        "outputId": "b30ef85f-39ab-4173-ddef-deb29bc276eb"
      },
      "execution_count": 11,
      "outputs": [
        {
          "output_type": "execute_result",
          "data": {
            "text/plain": [
              "0    380.047791\n",
              "1    453.769196\n",
              "2    306.376587\n",
              "3    419.645905\n",
              "4    380.650696\n",
              "Name: ActivePower(kW), dtype: float64"
            ]
          },
          "metadata": {},
          "execution_count": 11
        }
      ]
    },
    {
      "cell_type": "code",
      "source": [
        "X_train, X_test,y_train, y_test = train_test_split(X,y ,\n",
        "                                   random_state=6, \n",
        "                                   test_size=0.25)"
      ],
      "metadata": {
        "id": "NFMcJdjmkmsq"
      },
      "execution_count": 12,
      "outputs": []
    },
    {
      "cell_type": "markdown",
      "source": [
        "Importing the regression models"
      ],
      "metadata": {
        "id": "wyPmLLerkopK"
      }
    },
    {
      "cell_type": "code",
      "source": [
        "from sklearn.tree import DecisionTreeRegressor\n",
        "from sklearn.svm import SVR\n",
        "from sklearn.linear_model import LinearRegression\n",
        "from sklearn.ensemble import RandomForestRegressor\n",
        "from xgboost import XGBRegressor\n",
        "from sklearn.metrics import accuracy_score,r2_score,mean_squared_error\n",
        "xgr=XGBRegressor()\n",
        "rf=RandomForestRegressor()\n",
        "lr=LinearRegression()\n",
        "dt=DecisionTreeRegressor()\n",
        "sm=SVR()\n"
      ],
      "metadata": {
        "id": "O7DkPtfpkrhB"
      },
      "execution_count": 13,
      "outputs": []
    },
    {
      "cell_type": "markdown",
      "source": [
        "Fitting the models with the dataset"
      ],
      "metadata": {
        "id": "jHz-WesXk6QD"
      }
    },
    {
      "cell_type": "code",
      "source": [
        "model_xg=xgr.fit(X_train,y_train)\n",
        "y_xg=model_xg.predict(X_test)\n",
        "model_rf=rf.fit(X_train,y_train)\n",
        "y_rf=model_rf.predict(X_test)\n",
        "model_lr=lr.fit(X_train,y_train)\n",
        "y_lr=model_lr.predict(X_test)\n",
        "model_dt=dt.fit(X_train,y_train)\n",
        "y_dt=model_dt.predict(X_test)\n",
        "model_sm=sm.fit(X_train,y_train)\n",
        "y_sm=model_sm.predict(X_test)"
      ],
      "metadata": {
        "colab": {
          "base_uri": "https://localhost:8080/"
        },
        "id": "R-Wg5D3Mk5fo",
        "outputId": "ebeb120f-dddc-454a-fd7a-b502e0aaf763"
      },
      "execution_count": 14,
      "outputs": [
        {
          "output_type": "stream",
          "name": "stdout",
          "text": [
            "[12:33:12] WARNING: /workspace/src/objective/regression_obj.cu:152: reg:linear is now deprecated in favor of reg:squarederror.\n"
          ]
        }
      ]
    },
    {
      "cell_type": "markdown",
      "source": [
        "Checking the metrics"
      ],
      "metadata": {
        "id": "zmg1bsoKlADn"
      }
    },
    {
      "cell_type": "code",
      "source": [
        "print('R2-xgb',r2_score(y_test,y_xg))\n",
        "print('RMSE-xgb',np.sqrt(mean_squared_error(y_test,y_xg)))\n",
        "\n",
        "print('R2-rf',r2_score(y_test,y_rf))\n",
        "print('RMSE-rf',np.sqrt(mean_squared_error(y_test,y_rf)))\n",
        "\n",
        "print('R2-lr',r2_score(y_test,y_lr))\n",
        "print('RMSE-lr',np.sqrt(mean_squared_error(y_test,y_lr)))\n",
        "\n",
        "print('R2-dt',r2_score(y_test,y_dt))\n",
        "print('RMSE-dt',np.sqrt(mean_squared_error(y_test,y_dt)))\n",
        "\n",
        "print('R2-svm',r2_score(y_test,y_sm))\n",
        "print('RMSE-svm',np.sqrt(mean_squared_error(y_test,y_sm)))"
      ],
      "metadata": {
        "colab": {
          "base_uri": "https://localhost:8080/"
        },
        "id": "CzqF955Gk_HA",
        "outputId": "6875aa51-06dc-4fda-f0af-b8363eb19b41"
      },
      "execution_count": 15,
      "outputs": [
        {
          "output_type": "stream",
          "name": "stdout",
          "text": [
            "R2-xgb 0.9222746826171284\n",
            "RMSE-xgb 364.85477293970644\n",
            "R2-rf 0.9098970861855176\n",
            "RMSE-rf 392.83321179326947\n",
            "R2-lr 0.8368251429450982\n",
            "RMSE-lr 528.6465476346768\n",
            "R2-dt 0.8423138686115776\n",
            "RMSE-dt 519.6794327141452\n",
            "R2-svm 0.005368134807760105\n",
            "RMSE-svm 1305.1786596858901\n"
          ]
        }
      ]
    },
    {
      "cell_type": "markdown",
      "source": [
        "Hyperparameter tuning"
      ],
      "metadata": {
        "id": "nvsE6kVMm-Vu"
      }
    },
    {
      "cell_type": "code",
      "source": [
        "params={\n",
        " \"learning_rate\"    : [0.05, 0.01,0.03,0.1, 0.15, 0.2] ,\n",
        " \"n_estimators\"     : [50, 100, 150, 200, 500, 800,1000,1500] ,\n",
        " \"max_depth\"        : [ 3, 4, 5, 6, 8, 10, 12, 15,20,25],\n",
        " \"min_child_weight\" : [ 1, 3, 5, 7 ,10,15,20,25],\n",
        " \"gamma\"            : [ 0.0, 0.1, 0.2 , 0.3, 0.4 ],\n",
        " \"subsample\"        : [ 0.1, 0.2 , 0.3, 0.4,0.6,0.8,1 ],\n",
        " \"reg_lambda\"       : [ 0.0, 0.1, 0.2 , 0.3, 0.4 ,0.6,0.8,1],\n",
        " \"reg_alpha\"        : [ 0.0, 0.1, 0.2 , 0.3, 0.4 ],\n",
        " \"colsample_bytree\" : [ 0.3, 0.4, 0.5 , 0.7,0.9 ],\n",
        " \"colsample_bylevel\" : [ 0.3, 0.4, 0.5 , 0.7,0.9 ]\n",
        "    \n",
        "}"
      ],
      "metadata": {
        "id": "NUipUB0ynA7S"
      },
      "execution_count": 16,
      "outputs": []
    },
    {
      "cell_type": "code",
      "source": [
        "from sklearn.model_selection import RandomizedSearchCV, GridSearchCV"
      ],
      "metadata": {
        "id": "usxHBg1PnEWa"
      },
      "execution_count": 17,
      "outputs": []
    },
    {
      "cell_type": "code",
      "source": [
        "def timer(start_time=None):\n",
        "    if not start_time:\n",
        "        start_time = datetime.now()\n",
        "        return start_time\n",
        "    elif start_time:\n",
        "        thour, temp_sec = divmod((datetime.now() - start_time).total_seconds(), 3600)\n",
        "        tmin, tsec = divmod(temp_sec, 60)\n",
        "        print('\\n Time taken: %i hours %i minutes and %s seconds.' % (thour, tmin, round(tsec, 2)))"
      ],
      "metadata": {
        "id": "nI_uOlzAnIVR"
      },
      "execution_count": 18,
      "outputs": []
    },
    {
      "cell_type": "code",
      "source": [
        "random_search=RandomizedSearchCV(xgr,param_distributions=params,n_iter=10,n_jobs=-1,cv=5,verbose=3)\n",
        "from datetime import datetime\n",
        "start_time = timer(None) # timing starts from this point for \"start_time\" variable\n",
        "random_search.fit(X_train,y_train)\n",
        "timer(start_time) # timing ends here for \"start_time\" variable"
      ],
      "metadata": {
        "colab": {
          "base_uri": "https://localhost:8080/"
        },
        "id": "1cJCjJOzndw-",
        "outputId": "8e02b999-bc78-4461-9b82-7245e09783c1"
      },
      "execution_count": 19,
      "outputs": [
        {
          "output_type": "stream",
          "name": "stdout",
          "text": [
            "Fitting 5 folds for each of 10 candidates, totalling 50 fits\n"
          ]
        },
        {
          "output_type": "stream",
          "name": "stderr",
          "text": [
            "/usr/local/lib/python3.7/dist-packages/sklearn/model_selection/_search.py:972: UserWarning: One or more of the test scores are non-finite: [0.90764819 0.89004243 0.90957849 0.90036515 0.89352659 0.65408401\n",
            " 0.89842902 0.90225066 0.89488497        nan]\n",
            "  category=UserWarning,\n"
          ]
        },
        {
          "output_type": "stream",
          "name": "stdout",
          "text": [
            "[12:49:12] WARNING: /workspace/src/objective/regression_obj.cu:152: reg:linear is now deprecated in favor of reg:squarederror.\n",
            "\n",
            " Time taken: 0 hours 5 minutes and 23.42 seconds.\n"
          ]
        }
      ]
    },
    {
      "cell_type": "code",
      "source": [
        "random_search.best_estimator_\n",
        "#XGBRegressor(colsample_bylevel=0.4, colsample_bytree=0.3, gamma=0.1,\n",
        "#             learning_rate=0.01, max_depth=6, min_child_weight=25,\n",
        "#             n_estimators=1500, reg_alpha=0.1, reg_lambda=0.8, subsample=0.6)"
      ],
      "metadata": {
        "colab": {
          "base_uri": "https://localhost:8080/"
        },
        "id": "6VufJaXEpRpT",
        "outputId": "88656de7-7174-4d99-da9f-1ef5ed9062f4"
      },
      "execution_count": 20,
      "outputs": [
        {
          "output_type": "execute_result",
          "data": {
            "text/plain": [
              "XGBRegressor(colsample_bylevel=0.4, colsample_bytree=0.5, gamma=0.2,\n",
              "             learning_rate=0.01, min_child_weight=15, n_estimators=1000,\n",
              "             reg_alpha=0.3, subsample=0.3)"
            ]
          },
          "metadata": {},
          "execution_count": 20
        }
      ]
    },
    {
      "cell_type": "code",
      "source": [
        "xg=XGBRegressor(colsample_bylevel=0.4, colsample_bytree=0.3, gamma=0.1,\n",
        "             learning_rate=0.01, max_depth=6, min_child_weight=25,\n",
        "             n_estimators=1500, reg_alpha=0.1, reg_lambda=0.8, subsample=0.6)\n",
        "x=xgr.fit(X_train,y_train)\n",
        "y1=x.predict(X_test)\n",
        "r2_score(y_test,y1)"
      ],
      "metadata": {
        "colab": {
          "base_uri": "https://localhost:8080/"
        },
        "id": "Pg8Ypi3JpWOH",
        "outputId": "1a86bc6e-29ec-4284-d06f-945cf75361a8"
      },
      "execution_count": 21,
      "outputs": [
        {
          "output_type": "stream",
          "name": "stdout",
          "text": [
            "[12:52:07] WARNING: /workspace/src/objective/regression_obj.cu:152: reg:linear is now deprecated in favor of reg:squarederror.\n"
          ]
        },
        {
          "output_type": "execute_result",
          "data": {
            "text/plain": [
              "0.9222746826171284"
            ]
          },
          "metadata": {},
          "execution_count": 21
        }
      ]
    },
    {
      "cell_type": "code",
      "source": [
        "## Ensemble Learning\n",
        "from sklearn.linear_model import LinearRegression\n",
        "from sklearn.ensemble import VotingRegressor\n",
        "from sklearn.svm import SVR\n",
        "from sklearn.ensemble import RandomForestRegressor\n",
        "import xgboost as xgb\n",
        "from xgboost import XGBRegressor\n",
        "from sklearn.metrics import accuracy_score,r2_score,mean_squared_error\n",
        "xgr=XGBRegressor(base_score=0.5, booster='gbtree', colsample_bylevel=0.7,\n",
        "             colsample_bynode=1, colsample_bytree=0.3, gamma=0.2,\n",
        "             importance_type='gain', learning_rate=0.03, max_delta_step=0,\n",
        "             max_depth=8, min_child_weight=25, missing=None, n_estimators=800,\n",
        "             n_jobs=1, nthread=None, objective='reg:linear', random_state=0,\n",
        "             reg_alpha=0.2, reg_lambda=0.8, scale_pos_weight=1, seed=None,\n",
        "             silent=None, subsample=0.1, verbosity=1)\n",
        "sm=SVR(gamma='auto',C=50,epsilon=0.3)\n",
        "rf=RandomForestRegressor(n_estimators=500,max_depth=4)\n",
        "lr=LinearRegression()\n",
        "model=VotingRegressor([('lr',lr), ('rf',rf),('sm', sm),('xgr',xgr)],weights=[1,1,2,3])"
      ],
      "metadata": {
        "id": "BQxYQ3x1paaS"
      },
      "execution_count": 22,
      "outputs": []
    },
    {
      "cell_type": "code",
      "source": [
        "Model=model.fit(X_train, y_train)\n",
        "y_pred=Model.predict(X_test)\n",
        "print(y_pred)\n",
        "print('R2',r2_score(y_test,y_pred))\n",
        "print('RMSE',np.sqrt(mean_squared_error(y_test,y_pred)))\n",
        "\n"
      ],
      "metadata": {
        "colab": {
          "base_uri": "https://localhost:8080/"
        },
        "id": "cY3gO1u0phrO",
        "outputId": "74f1dac2-95e4-42e3-f8bc-84dc73d2d834"
      },
      "execution_count": 23,
      "outputs": [
        {
          "output_type": "stream",
          "name": "stdout",
          "text": [
            "[12:55:26] WARNING: /workspace/src/objective/regression_obj.cu:152: reg:linear is now deprecated in favor of reg:squarederror.\n",
            "[2145.53664875 1027.69622669  524.40391482 ... 1973.12529957 -117.83192329\n",
            "   67.11217545]\n",
            "R2 0.9129219930283954\n",
            "RMSE 386.18288274858764\n"
          ]
        }
      ]
    },
    {
      "cell_type": "code",
      "source": [
        "#Saving the model for future reference\n",
        "joblib.dump(model_xg,\"power_prediction.sav\")"
      ],
      "metadata": {
        "colab": {
          "base_uri": "https://localhost:8080/"
        },
        "id": "7ebl2eAJw1tI",
        "outputId": "0ad0aacf-dd11-4344-fedd-7149c7257b82"
      },
      "execution_count": 26,
      "outputs": [
        {
          "output_type": "execute_result",
          "data": {
            "text/plain": [
              "['power_prediction.sav']"
            ]
          },
          "metadata": {},
          "execution_count": 26
        }
      ]
    }
  ]
}